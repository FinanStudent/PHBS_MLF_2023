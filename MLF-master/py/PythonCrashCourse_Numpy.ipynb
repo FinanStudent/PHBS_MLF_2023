{
 "cells": [
  {
   "cell_type": "markdown",
   "metadata": {},
   "source": [
    "# Numpy Package"
   ]
  },
  {
   "cell_type": "code",
   "execution_count": 6,
   "metadata": {},
   "outputs": [],
   "source": [
    "import numpy as np\n",
    "#import time"
   ]
  },
  {
   "cell_type": "markdown",
   "metadata": {},
   "source": [
    "## Document and Auto-completion in Jupyter"
   ]
  },
  {
   "cell_type": "code",
   "execution_count": 8,
   "metadata": {},
   "outputs": [
    {
     "data": {
      "text/plain": [
       "array([[888, 888, 888],\n",
       "       [888, 888, 888],\n",
       "       [888, 888, 888]])"
      ]
     },
     "execution_count": 8,
     "metadata": {},
     "output_type": "execute_result"
    }
   ],
   "source": [
    "np.full((3,3), 888)"
   ]
  },
  {
   "cell_type": "code",
   "execution_count": 5,
   "metadata": {},
   "outputs": [
    {
     "data": {
      "text/plain": [
       "1"
      ]
     },
     "execution_count": 5,
     "metadata": {},
     "output_type": "execute_result"
    }
   ],
   "source": [
    "# np.[TAB]\n",
    "np.abs()"
   ]
  },
  {
   "cell_type": "code",
   "execution_count": 10,
   "metadata": {},
   "outputs": [
    {
     "data": {
      "text/plain": [
       "<function RandomState.normal>"
      ]
     },
     "execution_count": 10,
     "metadata": {},
     "output_type": "execute_result"
    }
   ],
   "source": [
    "# Help document\n",
    "np.random.normal"
   ]
  },
  {
   "cell_type": "code",
   "execution_count": 18,
   "metadata": {},
   "outputs": [],
   "source": [
    "# [Sh-Tab] to show function arguments\n",
    "m = np.random.normal(loc=0, scale=2, size=(3,3,4))"
   ]
  },
  {
   "cell_type": "code",
   "execution_count": 65,
   "metadata": {},
   "outputs": [
    {
     "data": {
      "text/plain": [
       "array([[0.62614627, 0.6367582 , 0.27929782],\n",
       "       [0.4136021 , 0.31453627, 0.37130676],\n",
       "       [0.80182135, 0.22729903, 0.72353916],\n",
       "       ...,\n",
       "       [0.8484895 , 0.74656739, 0.56561472],\n",
       "       [0.93868938, 0.76417995, 0.49233368],\n",
       "       [0.59049809, 0.83239895, 0.99649781]])"
      ]
     },
     "execution_count": 65,
     "metadata": {},
     "output_type": "execute_result"
    }
   ],
   "source": [
    "np.random.uniform(size=(1000000,3))"
   ]
  },
  {
   "cell_type": "code",
   "execution_count": 19,
   "metadata": {},
   "outputs": [
    {
     "data": {
      "text/plain": [
       "array([[[ 2.96024931, -0.94150061,  0.97075215, -0.0661142 ],\n",
       "        [-0.18874499, -0.92460418, -0.76195149,  1.86989038],\n",
       "        [ 0.78978536,  1.11362441, -0.83243849, -2.18049592]],\n",
       "\n",
       "       [[-0.56223205, -1.50110584,  3.53977997,  1.56313814],\n",
       "        [-0.29271921, -2.60834539, -1.0455198 , -3.94372458],\n",
       "        [ 1.22510353, -1.15656434, -0.79876942, -0.52400139]],\n",
       "\n",
       "       [[-0.56395878, -1.54818624,  0.20061252,  1.03600575],\n",
       "        [ 3.33335696, -1.50825426,  2.75188253, -0.27286031],\n",
       "        [ 1.8149083 ,  1.95658111,  2.81549151, -1.42183983]]])"
      ]
     },
     "execution_count": 19,
     "metadata": {},
     "output_type": "execute_result"
    }
   ],
   "source": [
    "m"
   ]
  },
  {
   "cell_type": "code",
   "execution_count": 20,
   "metadata": {},
   "outputs": [
    {
     "data": {
      "text/plain": [
       "(3, (3, 3, 4))"
      ]
     },
     "execution_count": 20,
     "metadata": {},
     "output_type": "execute_result"
    }
   ],
   "source": [
    "m.ndim, m.shape"
   ]
  },
  {
   "cell_type": "markdown",
   "metadata": {},
   "source": [
    "## Vector & Matrix"
   ]
  },
  {
   "cell_type": "code",
   "execution_count": 27,
   "metadata": {},
   "outputs": [
    {
     "data": {
      "text/plain": [
       "[0, 1, 2, 3, 4, 5, 6, 0, 1, 2, 3, 4, 5, 6, 0, 1, 2, 3, 4, 5, 6]"
      ]
     },
     "execution_count": 27,
     "metadata": {},
     "output_type": "execute_result"
    }
   ],
   "source": [
    "[0, 1, 2, 3, 4, 5, 6] * 3"
   ]
  },
  {
   "cell_type": "code",
   "execution_count": 24,
   "metadata": {},
   "outputs": [
    {
     "data": {
      "text/plain": [
       "array([0, 1, 2, 3, 4, 5, 6])"
      ]
     },
     "execution_count": 24,
     "metadata": {},
     "output_type": "execute_result"
    }
   ],
   "source": [
    "t = np.array([0, 1, 2, 3, 4, 5, 6])\n",
    "t"
   ]
  },
  {
   "cell_type": "code",
   "execution_count": 26,
   "metadata": {},
   "outputs": [
    {
     "data": {
      "text/plain": [
       "array([ 0,  2,  4,  6,  8, 10, 12])"
      ]
     },
     "execution_count": 26,
     "metadata": {},
     "output_type": "execute_result"
    }
   ],
   "source": [
    "t * 2"
   ]
  },
  {
   "cell_type": "code",
   "execution_count": 29,
   "metadata": {},
   "outputs": [
    {
     "name": "stdout",
     "output_type": "stream",
     "text": [
      "[0 1 2 3 4 5 6]\n",
      "1\n",
      "(7,)\n",
      "0 1 6\n",
      "[2 3 4] [3 4 5]\n",
      "[0 1] [3 4 5 6]\n"
     ]
    }
   ],
   "source": [
    "print(t)\n",
    "print(t.ndim) # rank/dimension\n",
    "print(t.shape) # shape\n",
    "print(t[0], t[1], t[-1])\n",
    "print(t[2:5], t[3:-1])\n",
    "print(t[:2], t[3:])"
   ]
  },
  {
   "cell_type": "markdown",
   "metadata": {},
   "source": [
    "## Matrix multiplication"
   ]
  },
  {
   "cell_type": "code",
   "execution_count": 59,
   "metadata": {},
   "outputs": [
    {
     "name": "stdout",
     "output_type": "stream",
     "text": [
      "[2 5 2] \n",
      " [[ 1.   0.7 -0.2]\n",
      " [ 0.2  1.   0.5]\n",
      " [ 0.2 -0.5  1. ]]\n"
     ]
    }
   ],
   "source": [
    "vec_x = np.array([2, 5, 2])\n",
    "mat_A = np.array([[1, 0.7, -0.2], [0.2, 1, 0.5], [0.2, -0.5, 1]])\n",
    "print(vec_x, '\\n', mat_A)"
   ]
  },
  {
   "cell_type": "code",
   "execution_count": 31,
   "metadata": {},
   "outputs": [
    {
     "name": "stdout",
     "output_type": "stream",
     "text": [
      "[ 4 25  4] \n",
      "\n",
      "[[1.   0.49 0.04]\n",
      " [0.04 1.   0.25]\n",
      " [0.04 0.25 1.  ]] \n",
      "\n",
      "[[ 2.   3.5 -0.4]\n",
      " [ 0.4  5.   1. ]\n",
      " [ 0.4 -2.5  2. ]] \n",
      "\n",
      "[[ 2.   3.5 -0.4]\n",
      " [ 0.4  5.   1. ]\n",
      " [ 0.4 -2.5  2. ]] \n",
      "\n"
     ]
    }
   ],
   "source": [
    "# Vector * Vector (Matrix * Matrix): Component-wise\n",
    "print(vec_x * vec_x, '\\n')\n",
    "print(mat_A * mat_A, '\\n')\n",
    "\n",
    "# Matrix x Vector ??: component-wise in each vector\n",
    "print( mat_A * vec_x, '\\n')\n",
    "print( vec_x * mat_A, '\\n') # Same"
   ]
  },
  {
   "cell_type": "code",
   "execution_count": 32,
   "metadata": {},
   "outputs": [
    {
     "data": {
      "text/plain": [
       "array([ 0,  1,  2,  3,  4,  5,  6,  7,  8,  9, 10, 11])"
      ]
     },
     "execution_count": 32,
     "metadata": {},
     "output_type": "execute_result"
    }
   ],
   "source": [
    "np.arange(12)"
   ]
  },
  {
   "cell_type": "code",
   "execution_count": 33,
   "metadata": {},
   "outputs": [
    {
     "data": {
      "text/plain": [
       "array([[ 0,  1,  2,  3],\n",
       "       [ 4,  5,  6,  7],\n",
       "       [ 8,  9, 10, 11]])"
      ]
     },
     "execution_count": 33,
     "metadata": {},
     "output_type": "execute_result"
    }
   ],
   "source": [
    "np.arange(12).reshape((3,4))"
   ]
  },
  {
   "cell_type": "code",
   "execution_count": 34,
   "metadata": {},
   "outputs": [
    {
     "name": "stdout",
     "output_type": "stream",
     "text": [
      "[[ 0  1  2  3]\n",
      " [ 4  5  6  7]\n",
      " [ 8  9 10 11]] [0 1 2 3]\n"
     ]
    },
    {
     "data": {
      "text/plain": [
       "array([[ 0,  1,  4,  9],\n",
       "       [ 0,  5, 12, 21],\n",
       "       [ 0,  9, 20, 33]])"
      ]
     },
     "execution_count": 34,
     "metadata": {},
     "output_type": "execute_result"
    }
   ],
   "source": [
    "mat_B = np.arange(12).reshape((3,4))\n",
    "vec_y = np.arange(4)\n",
    "print(mat_B, vec_y)\n",
    "mat_B * vec_y "
   ]
  },
  {
   "cell_type": "code",
   "execution_count": null,
   "metadata": {},
   "outputs": [],
   "source": [
    "np.arange(12)"
   ]
  },
  {
   "cell_type": "code",
   "execution_count": 35,
   "metadata": {},
   "outputs": [
    {
     "name": "stdout",
     "output_type": "stream",
     "text": [
      "42\n",
      "42\n",
      "42\n"
     ]
    }
   ],
   "source": [
    "# Dot(inner) product\n",
    "vec_y = vec_x + 1\n",
    "print( np.dot(vec_x, vec_y) )\n",
    "print( vec_x.dot(vec_y) ) # same\n",
    "print( vec_x@vec_y )"
   ]
  },
  {
   "cell_type": "code",
   "execution_count": 37,
   "metadata": {
    "scrolled": true
   },
   "outputs": [
    {
     "name": "stdout",
     "output_type": "stream",
     "text": [
      "[[ 1.1   1.5  -0.05]\n",
      " [ 0.5   0.89  0.96]\n",
      " [ 0.3  -0.86  0.71]] \n",
      "\n",
      "[ 5.1  6.4 -0.1] \n",
      "\n",
      "[3.4 5.4 4.1]\n"
     ]
    }
   ],
   "source": [
    "# Matrix multiplication ?\n",
    "print(mat_A @ mat_A, '\\n')\n",
    "# print(np.matmul(mat_A, mat_A), '\\n')  # @ is exactly same as np.matmul\n",
    "\n",
    "print(mat_A @ vec_x, '\\n')  # vec_x is treated as a column vector\n",
    "\n",
    "print(vec_x @ mat_A) # vec_x is treated as a row vector"
   ]
  },
  {
   "cell_type": "code",
   "execution_count": 38,
   "metadata": {},
   "outputs": [
    {
     "data": {
      "text/plain": [
       "array([2, 5, 2])"
      ]
     },
     "execution_count": 38,
     "metadata": {},
     "output_type": "execute_result"
    }
   ],
   "source": [
    "vec_x"
   ]
  },
  {
   "cell_type": "code",
   "execution_count": 46,
   "metadata": {},
   "outputs": [
    {
     "data": {
      "text/plain": [
       "array([[2],\n",
       "       [5],\n",
       "       [2]])"
      ]
     },
     "execution_count": 46,
     "metadata": {},
     "output_type": "execute_result"
    }
   ],
   "source": [
    "#vec_x.reshape((3,1))\n",
    "vec_x[:,None]"
   ]
  },
  {
   "cell_type": "code",
   "execution_count": 47,
   "metadata": {},
   "outputs": [
    {
     "name": "stdout",
     "output_type": "stream",
     "text": [
      "[[[2]\n",
      "  [5]\n",
      "  [2]]]\n",
      "[[2]\n",
      " [5]\n",
      " [2]]\n",
      "[[2]\n",
      " [5]\n",
      " [2]]\n"
     ]
    }
   ],
   "source": [
    "# Convert vector to a matrix with single column\n",
    "vec_x_col = vec_x[None, :, None]\n",
    "print(vec_x_col)\n",
    "print( np.reshape(vec_x,(3,1)) )\n",
    "print( vec_x.reshape((3,1)) )"
   ]
  },
  {
   "cell_type": "code",
   "execution_count": 48,
   "metadata": {},
   "outputs": [
    {
     "name": "stdout",
     "output_type": "stream",
     "text": [
      "[0 1 2 3 4]\n"
     ]
    }
   ],
   "source": [
    "vec_x = np.arange(5)\n",
    "print(vec_x)"
   ]
  },
  {
   "cell_type": "code",
   "execution_count": 49,
   "metadata": {},
   "outputs": [
    {
     "data": {
      "text/plain": [
       "array([0, 1, 2, 3, 4])"
      ]
     },
     "execution_count": 49,
     "metadata": {},
     "output_type": "execute_result"
    }
   ],
   "source": [
    "vec_x"
   ]
  },
  {
   "cell_type": "code",
   "execution_count": 50,
   "metadata": {},
   "outputs": [
    {
     "data": {
      "text/plain": [
       "array([[0],\n",
       "       [1],\n",
       "       [2],\n",
       "       [3],\n",
       "       [4]])"
      ]
     },
     "execution_count": 50,
     "metadata": {},
     "output_type": "execute_result"
    }
   ],
   "source": [
    "vec_x[:,None]"
   ]
  },
  {
   "cell_type": "code",
   "execution_count": 55,
   "metadata": {},
   "outputs": [
    {
     "data": {
      "text/plain": [
       "array([[ 0,  0,  0,  0,  0],\n",
       "       [ 0,  1,  2,  3,  4],\n",
       "       [ 0,  2,  4,  6,  8],\n",
       "       [ 0,  3,  6,  9, 12],\n",
       "       [ 0,  4,  8, 12, 16]])"
      ]
     },
     "execution_count": 55,
     "metadata": {},
     "output_type": "execute_result"
    }
   ],
   "source": [
    "MAT = vec_x * vec_x[:,None]\n",
    "MAT"
   ]
  },
  {
   "cell_type": "code",
   "execution_count": 56,
   "metadata": {},
   "outputs": [
    {
     "data": {
      "text/plain": [
       "array([[0],\n",
       "       [1],\n",
       "       [2],\n",
       "       [3],\n",
       "       [4]])"
      ]
     },
     "execution_count": 56,
     "metadata": {},
     "output_type": "execute_result"
    }
   ],
   "source": [
    "MAT[1,:,None]"
   ]
  },
  {
   "cell_type": "code",
   "execution_count": 60,
   "metadata": {},
   "outputs": [
    {
     "name": "stdout",
     "output_type": "stream",
     "text": [
      "[[ 1.   0.7 -0.2]\n",
      " [ 0.2  1.   0.5]\n",
      " [ 0.2 -0.5  1. ]] [2 5 2]\n"
     ]
    }
   ],
   "source": [
    "print(mat_A, vec_x)"
   ]
  },
  {
   "cell_type": "code",
   "execution_count": 63,
   "metadata": {},
   "outputs": [
    {
     "data": {
      "text/plain": [
       "array([[ 2. ,  1.4, -0.4],\n",
       "       [ 1. ,  5. ,  2.5],\n",
       "       [ 0.4, -1. ,  2. ]])"
      ]
     },
     "execution_count": 63,
     "metadata": {},
     "output_type": "execute_result"
    }
   ],
   "source": [
    "mat_A * vec_x[:, None]"
   ]
  },
  {
   "cell_type": "markdown",
   "metadata": {},
   "source": [
    "## N-d Array Initialization"
   ]
  },
  {
   "cell_type": "code",
   "execution_count": 67,
   "metadata": {},
   "outputs": [
    {
     "name": "stdout",
     "output_type": "stream",
     "text": [
      "[1. 1. 1. 1. 1. 1. 1. 1. 1. 1.] [[0. 0. 0.]\n",
      " [0. 0. 0.]\n",
      " [0. 0. 0.]\n",
      " [0. 0. 0.]\n",
      " [0. 0. 0.]]\n"
     ]
    }
   ],
   "source": [
    "vec_y = np.ones(10)\n",
    "vec_z = np.zeros((3,3), dtype=float)\n",
    "print(vec_y, vec_z)"
   ]
  },
  {
   "cell_type": "code",
   "execution_count": 68,
   "metadata": {},
   "outputs": [
    {
     "data": {
      "text/plain": [
       "array([[ 1. ,  0.7, -0.2],\n",
       "       [ 0.2,  1. ,  0.5],\n",
       "       [ 0.2, -0.5,  1. ]])"
      ]
     },
     "execution_count": 68,
     "metadata": {},
     "output_type": "execute_result"
    }
   ],
   "source": [
    "mat_A"
   ]
  },
  {
   "cell_type": "code",
   "execution_count": 70,
   "metadata": {},
   "outputs": [
    {
     "name": "stdout",
     "output_type": "stream",
     "text": [
      "[[1. 1. 1.]\n",
      " [1. 1. 1.]\n",
      " [1. 1. 1.]]\n"
     ]
    }
   ],
   "source": [
    "#mat_B = np.zeros((3,3))\n",
    "mat_B = np.zeros_like(mat_A)\n",
    "mat_B = np.ones_like(mat_A)\n",
    "print(mat_B)\n",
    "\n",
    "x_norm = np.random.normal(10,2,size=(10000,5))\n",
    "x_unif = np.random.uniform(size=(10000,5))"
   ]
  },
  {
   "cell_type": "code",
   "execution_count": 71,
   "metadata": {},
   "outputs": [
    {
     "data": {
      "text/plain": [
       "array([[0.70156283, 0.56775488, 0.0666352 , 0.03694798, 0.37853412],\n",
       "       [0.1124156 , 0.06954032, 0.4774412 , 0.62776954, 0.22402903],\n",
       "       [0.5589337 , 0.22771066, 0.99585508, 0.36031552, 0.62483539],\n",
       "       ...,\n",
       "       [0.71380004, 0.52613986, 0.55704213, 0.15593052, 0.26376138],\n",
       "       [0.3610137 , 0.64398466, 0.19240332, 0.01738119, 0.94389583],\n",
       "       [0.89186146, 0.66886961, 0.83174258, 0.94356677, 0.33247091]])"
      ]
     },
     "execution_count": 71,
     "metadata": {},
     "output_type": "execute_result"
    }
   ],
   "source": [
    "x_unif"
   ]
  },
  {
   "cell_type": "code",
   "execution_count": 72,
   "metadata": {},
   "outputs": [
    {
     "data": {
      "text/plain": [
       "array([[14.6163539 ,  6.03994971,  9.37496929, 11.46478543, 11.21584236],\n",
       "       [12.65332235,  8.6515051 , 10.37758043, 10.14274288,  6.62902868],\n",
       "       [10.28128975, 13.81702823,  8.90160183,  7.61369815, 10.69750229],\n",
       "       ...,\n",
       "       [ 8.4998295 , 11.10313026, 10.97030237, 13.16339777,  8.0392472 ],\n",
       "       [ 9.87901298, 10.13459584, 11.04148707,  8.57544703, 13.25993821],\n",
       "       [10.54603188, 10.85936352, 11.97892541,  7.59488134, 10.25469146]])"
      ]
     },
     "execution_count": 72,
     "metadata": {},
     "output_type": "execute_result"
    }
   ],
   "source": [
    "x_norm"
   ]
  },
  {
   "cell_type": "markdown",
   "metadata": {},
   "source": [
    "## Operations on Matrix (N-d array)"
   ]
  },
  {
   "cell_type": "code",
   "execution_count": 73,
   "metadata": {},
   "outputs": [
    {
     "data": {
      "text/plain": [
       "9.993267895639137"
      ]
     },
     "execution_count": 73,
     "metadata": {},
     "output_type": "execute_result"
    }
   ],
   "source": [
    "np.mean(x_norm)"
   ]
  },
  {
   "cell_type": "code",
   "execution_count": 74,
   "metadata": {},
   "outputs": [
    {
     "name": "stdout",
     "output_type": "stream",
     "text": [
      "[10.00776035  9.96292112  9.99514243  9.99407847 10.00643711]\n",
      "[1.99246068 1.98708009 1.99839084 2.01379241 1.96705789]\n"
     ]
    }
   ],
   "source": [
    "# Axis 0: Column, Axis 1: Row\n",
    "print( np.mean(x_norm, axis=0) )\n",
    "print( np.std(x_norm, axis=0) )"
   ]
  },
  {
   "cell_type": "code",
   "execution_count": 75,
   "metadata": {},
   "outputs": [
    {
     "name": "stdout",
     "output_type": "stream",
     "text": [
      "9.993267895639137\n",
      "[10.00776035  9.96292112  9.99514243  9.99407847 10.00643711]\n",
      "[10.54238014  9.69083589 10.26222405 ... 10.35518142 10.57809623\n",
      " 10.24677872]\n",
      "9.993267895639137\n"
     ]
    }
   ],
   "source": [
    "print( np.mean(x_norm) )\n",
    "print( np.mean(x_norm,axis=0) )\n",
    "print( np.mean(x_norm,axis=1) )\n",
    "print( np.mean(x_norm,axis=(0,1)) )"
   ]
  },
  {
   "cell_type": "code",
   "execution_count": 76,
   "metadata": {},
   "outputs": [
    {
     "data": {
      "text/plain": [
       "array([[ 1, -1, -1, ..., -1, -1,  1],\n",
       "       [ 1,  1, -1, ...,  1,  1, -1],\n",
       "       [ 1, -1,  1, ..., -1,  1, -1],\n",
       "       ...,\n",
       "       [-1,  1,  1, ..., -1, -1, -1],\n",
       "       [-1,  1, -1, ...,  1, -1,  1],\n",
       "       [-1,  1, -1, ...,  1, -1, -1]])"
      ]
     },
     "execution_count": 76,
     "metadata": {},
     "output_type": "execute_result"
    }
   ],
   "source": [
    "# Random Walk Simulation\n",
    "x_rw = np.random.binomial(1,0.5,size=(1000,10))*2 - 1\n",
    "x_rw"
   ]
  },
  {
   "cell_type": "code",
   "execution_count": 77,
   "metadata": {},
   "outputs": [
    {
     "name": "stdout",
     "output_type": "stream",
     "text": [
      "[[  1  -1  -1 ...  -1  -1   1]\n",
      " [  2   0  -2 ...   0   0   0]\n",
      " [  3  -1  -1 ...  -1   1  -1]\n",
      " ...\n",
      " [ 66   0 -12 ...   8  10  42]\n",
      " [ 65   1 -13 ...   9   9  43]\n",
      " [ 64   2 -14 ...  10   8  42]]\n"
     ]
    }
   ],
   "source": [
    "x_cum = np.cumsum(x_rw, axis=0)\n",
    "print(x_cum)"
   ]
  },
  {
   "cell_type": "code",
   "execution_count": 78,
   "metadata": {},
   "outputs": [],
   "source": [
    "%matplotlib inline\n",
    "import matplotlib.pyplot as plt"
   ]
  },
  {
   "cell_type": "code",
   "execution_count": 79,
   "metadata": {},
   "outputs": [
    {
     "data": {
      "text/plain": [
       "[<matplotlib.lines.Line2D at 0x2098a3499d0>,\n",
       " <matplotlib.lines.Line2D at 0x2098a349a00>,\n",
       " <matplotlib.lines.Line2D at 0x2098a349a30>,\n",
       " <matplotlib.lines.Line2D at 0x2098a349b80>,\n",
       " <matplotlib.lines.Line2D at 0x2098a349ca0>,\n",
       " <matplotlib.lines.Line2D at 0x2098a349dc0>,\n",
       " <matplotlib.lines.Line2D at 0x2098a349ee0>,\n",
       " <matplotlib.lines.Line2D at 0x2098a35d040>,\n",
       " <matplotlib.lines.Line2D at 0x2098a35d160>,\n",
       " <matplotlib.lines.Line2D at 0x2098a35d280>]"
      ]
     },
     "execution_count": 79,
     "metadata": {},
     "output_type": "execute_result"
    },
    {
     "data": {
      "image/png": "[encoded data removed]",
      "text/plain": [
       "<Figure size 432x288 with 1 Axes>"
      ]
     },
     "metadata": {
      "needs_background": "light"
     },
     "output_type": "display_data"
    }
   ],
   "source": [
    "plt.plot(x_cum)"
   ]
  },
  {
   "cell_type": "code",
   "execution_count": 80,
   "metadata": {},
   "outputs": [],
   "source": [
    "mat_B = np.arange(12).reshape((3,4))\n",
    "vec_x = np.arange(4)\n",
    "vec_y = np.arange(3)"
   ]
  },
  {
   "cell_type": "code",
   "execution_count": 82,
   "metadata": {},
   "outputs": [
    {
     "data": {
      "text/plain": [
       "(array([0, 1, 2, 3]),\n",
       " array([0, 1, 2]),\n",
       " array([[ 0,  1,  2,  3],\n",
       "        [ 4,  5,  6,  7],\n",
       "        [ 8,  9, 10, 11]]))"
      ]
     },
     "execution_count": 82,
     "metadata": {},
     "output_type": "execute_result"
    }
   ],
   "source": [
    "vec_x, vec_y, mat_B"
   ]
  },
  {
   "cell_type": "code",
   "execution_count": 83,
   "metadata": {},
   "outputs": [
    {
     "name": "stdout",
     "output_type": "stream",
     "text": [
      "[[ 0  1  2  3]\n",
      " [ 4  5  6  7]\n",
      " [ 8  9 10 11]\n",
      " [ 0  1  2  3]\n",
      " [ 4  5  6  7]\n",
      " [ 8  9 10 11]]\n",
      "[[ 0  1  2  3]\n",
      " [ 4  5  6  7]\n",
      " [ 8  9 10 11]\n",
      " [ 0  1  2  3]]\n"
     ]
    }
   ],
   "source": [
    "print(np.vstack([mat_B, mat_B]))\n",
    "print(np.vstack([mat_B, vec_x]))"
   ]
  },
  {
   "cell_type": "code",
   "execution_count": 86,
   "metadata": {},
   "outputs": [
    {
     "name": "stdout",
     "output_type": "stream",
     "text": [
      "[[ 0  1  2  3  0]\n",
      " [ 4  5  6  7  1]\n",
      " [ 8  9 10 11  2]]\n"
     ]
    }
   ],
   "source": [
    "#print(np.hstack([mat_B, mat_B]))\n",
    "#print(np.hstack([mat_B, vec_y]))\n",
    "print(np.hstack([mat_B, vec_y[:,None]]))"
   ]
  },
  {
   "cell_type": "markdown",
   "metadata": {
    "collapsed": true
   },
   "source": [
    "# Vectorization is fast\n",
    "* Using `for` or `while` loop is very slow\n",
    "* Always find proper vectorization operation"
   ]
  },
  {
   "cell_type": "code",
   "execution_count": 87,
   "metadata": {},
   "outputs": [
    {
     "data": {
      "text/plain": [
       "array([[ 2.99745439, -0.13782727,  0.87820482,  0.80318842, -1.02527728],\n",
       "       [-0.19455223,  1.16750393,  0.76165588,  0.81497754, -0.27265223],\n",
       "       [ 0.16339742, -0.17187894, -0.29636528, -1.39157575,  0.08720416],\n",
       "       ...,\n",
       "       [ 1.41298468, -0.7536215 ,  2.5007458 ,  0.34204669, -0.70076537],\n",
       "       [ 0.2486229 , -0.60635544,  2.20467683,  1.45205303,  0.08571512],\n",
       "       [ 0.46537275, -0.06263523, -1.59448421,  0.88472256,  0.00873597]])"
      ]
     },
     "execution_count": 87,
     "metadata": {},
     "output_type": "execute_result"
    }
   ],
   "source": [
    "# We're going to simulate the mean of the maximum of 5 normal distribution.\n",
    "nn = 100000\n",
    "x_norm = np.random.normal(size=(nn,5))\n",
    "x_norm"
   ]
  },
  {
   "cell_type": "markdown",
   "metadata": {},
   "source": [
    "### Using `for` loop"
   ]
  },
  {
   "cell_type": "code",
   "execution_count": 88,
   "metadata": {},
   "outputs": [
    {
     "name": "stdout",
     "output_type": "stream",
     "text": [
      "mean = 1.1592777341201512\n",
      "Wall time: 93.7 ms\n"
     ]
    }
   ],
   "source": [
    "%%time\n",
    "x_max = np.ones(x_norm.shape[0])\n",
    "for k in range(nn):\n",
    "    x_max[k] = max(x_norm[k,:])\n",
    "val = x_max.mean()\n",
    "print(f'mean = {val}')"
   ]
  },
  {
   "cell_type": "markdown",
   "metadata": {},
   "source": [
    "### Vectorized Version"
   ]
  },
  {
   "cell_type": "code",
   "execution_count": 100,
   "metadata": {},
   "outputs": [
    {
     "name": "stdout",
     "output_type": "stream",
     "text": [
      "mean = 1.1592777341201512\n",
      "Wall time: 5.32 ms\n"
     ]
    }
   ],
   "source": [
    "%%time\n",
    "val = np.amax(x_norm, axis=1).mean()\n",
    "print(f'mean = {val}')"
   ]
  },
  {
   "cell_type": "code",
   "execution_count": null,
   "metadata": {},
   "outputs": [],
   "source": []
  },
  {
   "cell_type": "markdown",
   "metadata": {},
   "source": [
    "## Array view and Copy\n",
    "* Array view shares the same memory space\n",
    "* Any change in the view will make the same change in the original array"
   ]
  },
  {
   "cell_type": "code",
   "execution_count": 105,
   "metadata": {},
   "outputs": [
    {
     "name": "stdout",
     "output_type": "stream",
     "text": [
      "[[ 0  1  2  3]\n",
      " [ 4  5  6  7]\n",
      " [ 8  9 10 11]] [4 5 6 7]\n"
     ]
    }
   ],
   "source": [
    "mat_B = np.arange(12).reshape((3,4))\n",
    "#print(mat_B)\n",
    "vec_x = mat_B[1,]\n",
    "#vec_x = mat_B[1,].copy()\n",
    "print(mat_B, vec_x)"
   ]
  },
  {
   "cell_type": "code",
   "execution_count": 106,
   "metadata": {},
   "outputs": [],
   "source": [
    "vec_x[2] = -99"
   ]
  },
  {
   "cell_type": "code",
   "execution_count": 107,
   "metadata": {},
   "outputs": [
    {
     "name": "stdout",
     "output_type": "stream",
     "text": [
      "[[ 0  1  2  3]\n",
      " [ 4  5  6  7]\n",
      " [ 8  9 10 11]] [  4   5 -99   7]\n"
     ]
    }
   ],
   "source": [
    "print(mat_B, vec_x)"
   ]
  },
  {
   "cell_type": "code",
   "execution_count": 111,
   "metadata": {},
   "outputs": [
    {
     "name": "stdout",
     "output_type": "stream",
     "text": [
      "[[  0   1   2   3]\n",
      " [  4 -99   6   7]\n",
      " [  8   9  10  11]] \n",
      "\n",
      " [[ 0  1  2  3]\n",
      " [ 4  5  6  7]\n",
      " [ 8  9 10 11]]\n"
     ]
    }
   ],
   "source": [
    "# mat_C is not a view\n",
    "mat_B = np.arange(12).reshape((3,4))\n",
    "mat_C = mat_B.copy()\n",
    "mat_B[1,1] = -99\n",
    "print(mat_B, \"\\n\\n\", mat_C)"
   ]
  },
  {
   "cell_type": "code",
   "execution_count": null,
   "metadata": {},
   "outputs": [],
   "source": [
    "np.random.uniform"
   ]
  }
 ],
 "metadata": {
  "anaconda-cloud": {},
  "kernelspec": {
   "display_name": "Python 3 (ipykernel)",
   "language": "python",
   "name": "python3"
  },
  "language_info": {
   "codemirror_mode": {
    "name": "ipython",
    "version": 3
   },
   "file_extension": ".py",
   "mimetype": "text/x-python",
   "name": "python",
   "nbconvert_exporter": "python",
   "pygments_lexer": "ipython3",
   "version": "3.9.7"
  }
 },
 "nbformat": 4,
 "nbformat_minor": 1
}
